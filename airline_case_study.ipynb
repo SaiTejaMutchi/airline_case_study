{
  "nbformat": 4,
  "nbformat_minor": 0,
  "metadata": {
    "colab": {
      "name": "airline_case_study.ipynb",
      "provenance": [],
      "authorship_tag": "ABX9TyPqB2wTF3SBEjo7LaJRq+99",
      "include_colab_link": true
    },
    "kernelspec": {
      "name": "python3",
      "display_name": "Python 3"
    },
    "language_info": {
      "name": "python"
    }
  },
  "cells": [
    {
      "cell_type": "markdown",
      "metadata": {
        "id": "view-in-github",
        "colab_type": "text"
      },
      "source": [
        "<a href=\"https://colab.research.google.com/github/SaiTejaMutchi/airline_case_study/blob/main/airline_case_study.ipynb\" target=\"_parent\"><img src=\"https://colab.research.google.com/assets/colab-badge.svg\" alt=\"Open In Colab\"/></a>"
      ]
    },
    {
      "cell_type": "markdown",
      "metadata": {
        "id": "KR9LPzpFyjvU"
      },
      "source": [
        "# Part A"
      ]
    },
    {
      "cell_type": "code",
      "metadata": {
        "id": "7g0V401cKYmB"
      },
      "source": [
        "import pandas as pd"
      ],
      "execution_count": 32,
      "outputs": []
    },
    {
      "cell_type": "code",
      "metadata": {
        "colab": {
          "resources": {
            "http://localhost:8080/nbextensions/google.colab/files.js": {
              "data": "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",
              "ok": true,
              "headers": [
                [
                  "content-type",
                  "application/javascript"
                ]
              ],
              "status": 200,
              "status_text": ""
            }
          },
          "base_uri": "https://localhost:8080/",
          "height": 39
        },
        "id": "d6mHzKECMIzv",
        "outputId": "6ef4a6df-dc91-4ec6-9fe5-5f0a2eb1eb7d"
      },
      "source": [
        "from google.colab import files\n",
        "uploaded = files.upload()"
      ],
      "execution_count": 33,
      "outputs": [
        {
          "output_type": "display_data",
          "data": {
            "text/html": [
              "\n",
              "     <input type=\"file\" id=\"files-bab6cbfe-aa24-4537-b3aa-3277662c7805\" name=\"files[]\" multiple disabled\n",
              "        style=\"border:none\" />\n",
              "     <output id=\"result-bab6cbfe-aa24-4537-b3aa-3277662c7805\">\n",
              "      Upload widget is only available when the cell has been executed in the\n",
              "      current browser session. Please rerun this cell to enable.\n",
              "      </output>\n",
              "      <script src=\"/nbextensions/google.colab/files.js\"></script> "
            ],
            "text/plain": [
              "<IPython.core.display.HTML object>"
            ]
          },
          "metadata": {
            "tags": []
          }
        }
      ]
    },
    {
      "cell_type": "code",
      "metadata": {
        "id": "zF9Fyt0gKzpf"
      },
      "source": [
        "# Given excel was split into csv files as per csv files\n",
        "# importing data\n",
        "ac_characteristics_df = pd.read_csv('ac_characteristics.csv')\n",
        "city_pairs_df = pd.read_csv('city_pairs.csv')\n",
        "operations_df=pd.read_csv('operations.csv')"
      ],
      "execution_count": 34,
      "outputs": []
    },
    {
      "cell_type": "code",
      "metadata": {
        "colab": {
          "base_uri": "https://localhost:8080/",
          "height": 234
        },
        "id": "P2elQQSUSeBm",
        "outputId": "95f67b7f-610b-476b-bf3a-a46ad89f3547"
      },
      "source": [
        "ac_characteristics_df"
      ],
      "execution_count": 35,
      "outputs": [
        {
          "output_type": "execute_result",
          "data": {
            "text/html": [
              "<div>\n",
              "<style scoped>\n",
              "    .dataframe tbody tr th:only-of-type {\n",
              "        vertical-align: middle;\n",
              "    }\n",
              "\n",
              "    .dataframe tbody tr th {\n",
              "        vertical-align: top;\n",
              "    }\n",
              "\n",
              "    .dataframe thead th {\n",
              "        text-align: right;\n",
              "    }\n",
              "</style>\n",
              "<table border=\"1\" class=\"dataframe\">\n",
              "  <thead>\n",
              "    <tr style=\"text-align: right;\">\n",
              "      <th></th>\n",
              "      <th>Aircraft Type</th>\n",
              "      <th>Range (km)</th>\n",
              "      <th>Average Speed (km/h)</th>\n",
              "      <th>Number of Seats</th>\n",
              "      <th>Costs per flight hour</th>\n",
              "    </tr>\n",
              "  </thead>\n",
              "  <tbody>\n",
              "    <tr>\n",
              "      <th>0</th>\n",
              "      <td>A320</td>\n",
              "      <td>5000</td>\n",
              "      <td>800</td>\n",
              "      <td>150</td>\n",
              "      <td>5000</td>\n",
              "    </tr>\n",
              "    <tr>\n",
              "      <th>1</th>\n",
              "      <td>A330</td>\n",
              "      <td>8000</td>\n",
              "      <td>900</td>\n",
              "      <td>250</td>\n",
              "      <td>7500</td>\n",
              "    </tr>\n",
              "    <tr>\n",
              "      <th>2</th>\n",
              "      <td>B737</td>\n",
              "      <td>5000</td>\n",
              "      <td>800</td>\n",
              "      <td>150</td>\n",
              "      <td>5100</td>\n",
              "    </tr>\n",
              "    <tr>\n",
              "      <th>3</th>\n",
              "      <td>B747</td>\n",
              "      <td>10000</td>\n",
              "      <td>900</td>\n",
              "      <td>350</td>\n",
              "      <td>12000</td>\n",
              "    </tr>\n",
              "    <tr>\n",
              "      <th>4</th>\n",
              "      <td>Q400</td>\n",
              "      <td>1500</td>\n",
              "      <td>750</td>\n",
              "      <td>90</td>\n",
              "      <td>3500</td>\n",
              "    </tr>\n",
              "    <tr>\n",
              "      <th>5</th>\n",
              "      <td>ATR72</td>\n",
              "      <td>1000</td>\n",
              "      <td>650</td>\n",
              "      <td>75</td>\n",
              "      <td>2750</td>\n",
              "    </tr>\n",
              "  </tbody>\n",
              "</table>\n",
              "</div>"
            ],
            "text/plain": [
              "  Aircraft Type   Range (km)  ...   Number of Seats   Costs per flight hour\n",
              "0          A320         5000  ...               150                    5000\n",
              "1          A330         8000  ...               250                    7500\n",
              "2          B737         5000  ...               150                    5100\n",
              "3          B747        10000  ...               350                   12000\n",
              "4          Q400         1500  ...                90                    3500\n",
              "5         ATR72         1000  ...                75                    2750\n",
              "\n",
              "[6 rows x 5 columns]"
            ]
          },
          "metadata": {
            "tags": []
          },
          "execution_count": 35
        }
      ]
    },
    {
      "cell_type": "code",
      "metadata": {
        "colab": {
          "base_uri": "https://localhost:8080/"
        },
        "id": "pA1TaSzyMkZu",
        "outputId": "9ea381d9-4b9f-4162-f2b8-5a58aaf89fd2"
      },
      "source": [
        "# ac_charactersrics_df\n",
        "ac_type_dict={}\n",
        "for i in range(len(ac_characteristics_df)):\n",
        "  my_list=list(ac_characteristics_df.iloc[i])\n",
        "  ac_type_dict[my_list[0]]=my_list[1:]\n",
        "ac_type_dict\n",
        "# this dictionary has ac_type as key and value as list of Range, Avg. speed, Number of seats, Costs per flight hour"
      ],
      "execution_count": 36,
      "outputs": [
        {
          "output_type": "execute_result",
          "data": {
            "text/plain": [
              "{'A320': [5000, 800, 150, 5000],\n",
              " 'A330': [8000, 900, 250, 7500],\n",
              " 'ATR72': [1000, 650, 75, 2750],\n",
              " 'B737': [5000, 800, 150, 5100],\n",
              " 'B747': [10000, 900, 350, 12000],\n",
              " 'Q400': [1500, 750, 90, 3500]}"
            ]
          },
          "metadata": {
            "tags": []
          },
          "execution_count": 36
        }
      ]
    },
    {
      "cell_type": "code",
      "metadata": {
        "colab": {
          "base_uri": "https://localhost:8080/",
          "height": 850
        },
        "id": "RK8AC6gWTbNl",
        "outputId": "93df765f-9cd7-46dc-e244-2ca31af66745"
      },
      "source": [
        "operations_df"
      ],
      "execution_count": 37,
      "outputs": [
        {
          "output_type": "execute_result",
          "data": {
            "text/html": [
              "<div>\n",
              "<style scoped>\n",
              "    .dataframe tbody tr th:only-of-type {\n",
              "        vertical-align: middle;\n",
              "    }\n",
              "\n",
              "    .dataframe tbody tr th {\n",
              "        vertical-align: top;\n",
              "    }\n",
              "\n",
              "    .dataframe thead th {\n",
              "        text-align: right;\n",
              "    }\n",
              "</style>\n",
              "<table border=\"1\" class=\"dataframe\">\n",
              "  <thead>\n",
              "    <tr style=\"text-align: right;\">\n",
              "      <th></th>\n",
              "      <th>Aircraft Name</th>\n",
              "      <th>Aircraft Type</th>\n",
              "      <th>Jan-14</th>\n",
              "      <th>Feb-14</th>\n",
              "      <th>Mar-14</th>\n",
              "      <th>Apr-14</th>\n",
              "      <th>May-14</th>\n",
              "      <th>Jun-14</th>\n",
              "      <th>Jul-14</th>\n",
              "      <th>Aug-14</th>\n",
              "      <th>Sep-14</th>\n",
              "      <th>Oct-14</th>\n",
              "      <th>Nov-14</th>\n",
              "      <th>Dec-14</th>\n",
              "    </tr>\n",
              "  </thead>\n",
              "  <tbody>\n",
              "    <tr>\n",
              "      <th>0</th>\n",
              "      <td>A</td>\n",
              "      <td>A320</td>\n",
              "      <td>250</td>\n",
              "      <td>251</td>\n",
              "      <td>248</td>\n",
              "      <td>253</td>\n",
              "      <td>243</td>\n",
              "      <td>245</td>\n",
              "      <td>248</td>\n",
              "      <td>246</td>\n",
              "      <td>256</td>\n",
              "      <td>256</td>\n",
              "      <td>251</td>\n",
              "      <td>252</td>\n",
              "    </tr>\n",
              "    <tr>\n",
              "      <th>1</th>\n",
              "      <td>B</td>\n",
              "      <td>A330</td>\n",
              "      <td>300</td>\n",
              "      <td>301</td>\n",
              "      <td>298</td>\n",
              "      <td>303</td>\n",
              "      <td>293</td>\n",
              "      <td>295</td>\n",
              "      <td>298</td>\n",
              "      <td>296</td>\n",
              "      <td>306</td>\n",
              "      <td>306</td>\n",
              "      <td>301</td>\n",
              "      <td>302</td>\n",
              "    </tr>\n",
              "    <tr>\n",
              "      <th>2</th>\n",
              "      <td>C</td>\n",
              "      <td>B737</td>\n",
              "      <td>245</td>\n",
              "      <td>246</td>\n",
              "      <td>243</td>\n",
              "      <td>248</td>\n",
              "      <td>238</td>\n",
              "      <td>240</td>\n",
              "      <td>243</td>\n",
              "      <td>241</td>\n",
              "      <td>251</td>\n",
              "      <td>251</td>\n",
              "      <td>246</td>\n",
              "      <td>247</td>\n",
              "    </tr>\n",
              "    <tr>\n",
              "      <th>3</th>\n",
              "      <td>D</td>\n",
              "      <td>B747</td>\n",
              "      <td>310</td>\n",
              "      <td>311</td>\n",
              "      <td>308</td>\n",
              "      <td>313</td>\n",
              "      <td>303</td>\n",
              "      <td>305</td>\n",
              "      <td>308</td>\n",
              "      <td>306</td>\n",
              "      <td>316</td>\n",
              "      <td>316</td>\n",
              "      <td>311</td>\n",
              "      <td>312</td>\n",
              "    </tr>\n",
              "    <tr>\n",
              "      <th>4</th>\n",
              "      <td>E</td>\n",
              "      <td>Q400</td>\n",
              "      <td>200</td>\n",
              "      <td>201</td>\n",
              "      <td>198</td>\n",
              "      <td>203</td>\n",
              "      <td>193</td>\n",
              "      <td>195</td>\n",
              "      <td>198</td>\n",
              "      <td>196</td>\n",
              "      <td>206</td>\n",
              "      <td>206</td>\n",
              "      <td>201</td>\n",
              "      <td>202</td>\n",
              "    </tr>\n",
              "    <tr>\n",
              "      <th>5</th>\n",
              "      <td>F</td>\n",
              "      <td>ATR72</td>\n",
              "      <td>195</td>\n",
              "      <td>196</td>\n",
              "      <td>193</td>\n",
              "      <td>198</td>\n",
              "      <td>188</td>\n",
              "      <td>190</td>\n",
              "      <td>193</td>\n",
              "      <td>191</td>\n",
              "      <td>201</td>\n",
              "      <td>201</td>\n",
              "      <td>196</td>\n",
              "      <td>197</td>\n",
              "    </tr>\n",
              "    <tr>\n",
              "      <th>6</th>\n",
              "      <td>G</td>\n",
              "      <td>B747</td>\n",
              "      <td>300</td>\n",
              "      <td>301</td>\n",
              "      <td>298</td>\n",
              "      <td>303</td>\n",
              "      <td>293</td>\n",
              "      <td>295</td>\n",
              "      <td>298</td>\n",
              "      <td>296</td>\n",
              "      <td>306</td>\n",
              "      <td>306</td>\n",
              "      <td>301</td>\n",
              "      <td>302</td>\n",
              "    </tr>\n",
              "    <tr>\n",
              "      <th>7</th>\n",
              "      <td>H</td>\n",
              "      <td>Q400</td>\n",
              "      <td>195</td>\n",
              "      <td>196</td>\n",
              "      <td>193</td>\n",
              "      <td>198</td>\n",
              "      <td>188</td>\n",
              "      <td>190</td>\n",
              "      <td>193</td>\n",
              "      <td>191</td>\n",
              "      <td>201</td>\n",
              "      <td>201</td>\n",
              "      <td>196</td>\n",
              "      <td>197</td>\n",
              "    </tr>\n",
              "    <tr>\n",
              "      <th>8</th>\n",
              "      <td>I</td>\n",
              "      <td>ATR72</td>\n",
              "      <td>200</td>\n",
              "      <td>201</td>\n",
              "      <td>198</td>\n",
              "      <td>203</td>\n",
              "      <td>193</td>\n",
              "      <td>195</td>\n",
              "      <td>198</td>\n",
              "      <td>196</td>\n",
              "      <td>206</td>\n",
              "      <td>206</td>\n",
              "      <td>201</td>\n",
              "      <td>202</td>\n",
              "    </tr>\n",
              "    <tr>\n",
              "      <th>9</th>\n",
              "      <td>J</td>\n",
              "      <td>A330</td>\n",
              "      <td>310</td>\n",
              "      <td>311</td>\n",
              "      <td>308</td>\n",
              "      <td>313</td>\n",
              "      <td>303</td>\n",
              "      <td>305</td>\n",
              "      <td>308</td>\n",
              "      <td>306</td>\n",
              "      <td>316</td>\n",
              "      <td>316</td>\n",
              "      <td>311</td>\n",
              "      <td>312</td>\n",
              "    </tr>\n",
              "    <tr>\n",
              "      <th>10</th>\n",
              "      <td>K</td>\n",
              "      <td>B737</td>\n",
              "      <td>250</td>\n",
              "      <td>251</td>\n",
              "      <td>248</td>\n",
              "      <td>253</td>\n",
              "      <td>243</td>\n",
              "      <td>245</td>\n",
              "      <td>248</td>\n",
              "      <td>246</td>\n",
              "      <td>256</td>\n",
              "      <td>256</td>\n",
              "      <td>251</td>\n",
              "      <td>252</td>\n",
              "    </tr>\n",
              "    <tr>\n",
              "      <th>11</th>\n",
              "      <td>L</td>\n",
              "      <td>A320</td>\n",
              "      <td>245</td>\n",
              "      <td>246</td>\n",
              "      <td>243</td>\n",
              "      <td>248</td>\n",
              "      <td>238</td>\n",
              "      <td>240</td>\n",
              "      <td>243</td>\n",
              "      <td>241</td>\n",
              "      <td>251</td>\n",
              "      <td>251</td>\n",
              "      <td>246</td>\n",
              "      <td>247</td>\n",
              "    </tr>\n",
              "    <tr>\n",
              "      <th>12</th>\n",
              "      <td>M</td>\n",
              "      <td>A330</td>\n",
              "      <td>300</td>\n",
              "      <td>301</td>\n",
              "      <td>298</td>\n",
              "      <td>303</td>\n",
              "      <td>293</td>\n",
              "      <td>295</td>\n",
              "      <td>298</td>\n",
              "      <td>296</td>\n",
              "      <td>306</td>\n",
              "      <td>306</td>\n",
              "      <td>301</td>\n",
              "      <td>302</td>\n",
              "    </tr>\n",
              "    <tr>\n",
              "      <th>13</th>\n",
              "      <td>N</td>\n",
              "      <td>B737</td>\n",
              "      <td>245</td>\n",
              "      <td>246</td>\n",
              "      <td>243</td>\n",
              "      <td>248</td>\n",
              "      <td>238</td>\n",
              "      <td>240</td>\n",
              "      <td>243</td>\n",
              "      <td>241</td>\n",
              "      <td>251</td>\n",
              "      <td>251</td>\n",
              "      <td>246</td>\n",
              "      <td>247</td>\n",
              "    </tr>\n",
              "    <tr>\n",
              "      <th>14</th>\n",
              "      <td>O</td>\n",
              "      <td>A320</td>\n",
              "      <td>250</td>\n",
              "      <td>251</td>\n",
              "      <td>248</td>\n",
              "      <td>253</td>\n",
              "      <td>243</td>\n",
              "      <td>245</td>\n",
              "      <td>248</td>\n",
              "      <td>246</td>\n",
              "      <td>256</td>\n",
              "      <td>256</td>\n",
              "      <td>251</td>\n",
              "      <td>252</td>\n",
              "    </tr>\n",
              "    <tr>\n",
              "      <th>15</th>\n",
              "      <td>P</td>\n",
              "      <td>A320</td>\n",
              "      <td>245</td>\n",
              "      <td>246</td>\n",
              "      <td>243</td>\n",
              "      <td>248</td>\n",
              "      <td>238</td>\n",
              "      <td>240</td>\n",
              "      <td>243</td>\n",
              "      <td>241</td>\n",
              "      <td>251</td>\n",
              "      <td>251</td>\n",
              "      <td>246</td>\n",
              "      <td>247</td>\n",
              "    </tr>\n",
              "    <tr>\n",
              "      <th>16</th>\n",
              "      <td>Q</td>\n",
              "      <td>Q400</td>\n",
              "      <td>195</td>\n",
              "      <td>196</td>\n",
              "      <td>193</td>\n",
              "      <td>198</td>\n",
              "      <td>188</td>\n",
              "      <td>190</td>\n",
              "      <td>193</td>\n",
              "      <td>191</td>\n",
              "      <td>201</td>\n",
              "      <td>201</td>\n",
              "      <td>196</td>\n",
              "      <td>197</td>\n",
              "    </tr>\n",
              "    <tr>\n",
              "      <th>17</th>\n",
              "      <td>R</td>\n",
              "      <td>ATR72</td>\n",
              "      <td>200</td>\n",
              "      <td>201</td>\n",
              "      <td>198</td>\n",
              "      <td>203</td>\n",
              "      <td>193</td>\n",
              "      <td>195</td>\n",
              "      <td>198</td>\n",
              "      <td>196</td>\n",
              "      <td>206</td>\n",
              "      <td>206</td>\n",
              "      <td>201</td>\n",
              "      <td>202</td>\n",
              "    </tr>\n",
              "    <tr>\n",
              "      <th>18</th>\n",
              "      <td>S</td>\n",
              "      <td>A330</td>\n",
              "      <td>310</td>\n",
              "      <td>311</td>\n",
              "      <td>308</td>\n",
              "      <td>313</td>\n",
              "      <td>303</td>\n",
              "      <td>305</td>\n",
              "      <td>308</td>\n",
              "      <td>306</td>\n",
              "      <td>316</td>\n",
              "      <td>316</td>\n",
              "      <td>311</td>\n",
              "      <td>312</td>\n",
              "    </tr>\n",
              "    <tr>\n",
              "      <th>19</th>\n",
              "      <td>T</td>\n",
              "      <td>A330</td>\n",
              "      <td>300</td>\n",
              "      <td>301</td>\n",
              "      <td>298</td>\n",
              "      <td>303</td>\n",
              "      <td>293</td>\n",
              "      <td>295</td>\n",
              "      <td>298</td>\n",
              "      <td>296</td>\n",
              "      <td>306</td>\n",
              "      <td>306</td>\n",
              "      <td>301</td>\n",
              "      <td>302</td>\n",
              "    </tr>\n",
              "    <tr>\n",
              "      <th>20</th>\n",
              "      <td>U</td>\n",
              "      <td>B747</td>\n",
              "      <td>310</td>\n",
              "      <td>311</td>\n",
              "      <td>308</td>\n",
              "      <td>313</td>\n",
              "      <td>303</td>\n",
              "      <td>305</td>\n",
              "      <td>308</td>\n",
              "      <td>306</td>\n",
              "      <td>316</td>\n",
              "      <td>316</td>\n",
              "      <td>311</td>\n",
              "      <td>312</td>\n",
              "    </tr>\n",
              "    <tr>\n",
              "      <th>21</th>\n",
              "      <td>V</td>\n",
              "      <td>Q400</td>\n",
              "      <td>200</td>\n",
              "      <td>201</td>\n",
              "      <td>198</td>\n",
              "      <td>203</td>\n",
              "      <td>193</td>\n",
              "      <td>195</td>\n",
              "      <td>198</td>\n",
              "      <td>196</td>\n",
              "      <td>206</td>\n",
              "      <td>206</td>\n",
              "      <td>201</td>\n",
              "      <td>202</td>\n",
              "    </tr>\n",
              "    <tr>\n",
              "      <th>22</th>\n",
              "      <td>W</td>\n",
              "      <td>ATR72</td>\n",
              "      <td>200</td>\n",
              "      <td>201</td>\n",
              "      <td>198</td>\n",
              "      <td>203</td>\n",
              "      <td>193</td>\n",
              "      <td>195</td>\n",
              "      <td>198</td>\n",
              "      <td>196</td>\n",
              "      <td>206</td>\n",
              "      <td>206</td>\n",
              "      <td>201</td>\n",
              "      <td>202</td>\n",
              "    </tr>\n",
              "    <tr>\n",
              "      <th>23</th>\n",
              "      <td>X</td>\n",
              "      <td>A320</td>\n",
              "      <td>250</td>\n",
              "      <td>251</td>\n",
              "      <td>248</td>\n",
              "      <td>253</td>\n",
              "      <td>243</td>\n",
              "      <td>245</td>\n",
              "      <td>248</td>\n",
              "      <td>246</td>\n",
              "      <td>256</td>\n",
              "      <td>256</td>\n",
              "      <td>251</td>\n",
              "      <td>252</td>\n",
              "    </tr>\n",
              "    <tr>\n",
              "      <th>24</th>\n",
              "      <td>Y</td>\n",
              "      <td>A330</td>\n",
              "      <td>300</td>\n",
              "      <td>301</td>\n",
              "      <td>298</td>\n",
              "      <td>303</td>\n",
              "      <td>293</td>\n",
              "      <td>295</td>\n",
              "      <td>298</td>\n",
              "      <td>296</td>\n",
              "      <td>306</td>\n",
              "      <td>306</td>\n",
              "      <td>301</td>\n",
              "      <td>302</td>\n",
              "    </tr>\n",
              "    <tr>\n",
              "      <th>25</th>\n",
              "      <td>Z</td>\n",
              "      <td>B737</td>\n",
              "      <td>245</td>\n",
              "      <td>246</td>\n",
              "      <td>243</td>\n",
              "      <td>248</td>\n",
              "      <td>238</td>\n",
              "      <td>240</td>\n",
              "      <td>243</td>\n",
              "      <td>241</td>\n",
              "      <td>251</td>\n",
              "      <td>251</td>\n",
              "      <td>246</td>\n",
              "      <td>247</td>\n",
              "    </tr>\n",
              "  </tbody>\n",
              "</table>\n",
              "</div>"
            ],
            "text/plain": [
              "   Aircraft Name Aircraft Type  Jan-14  Feb-14  ...  Sep-14  Oct-14  Nov-14  Dec-14\n",
              "0              A          A320     250     251  ...     256     256     251     252\n",
              "1              B          A330     300     301  ...     306     306     301     302\n",
              "2              C          B737     245     246  ...     251     251     246     247\n",
              "3              D          B747     310     311  ...     316     316     311     312\n",
              "4              E          Q400     200     201  ...     206     206     201     202\n",
              "5              F         ATR72     195     196  ...     201     201     196     197\n",
              "6              G          B747     300     301  ...     306     306     301     302\n",
              "7              H          Q400     195     196  ...     201     201     196     197\n",
              "8              I         ATR72     200     201  ...     206     206     201     202\n",
              "9              J          A330     310     311  ...     316     316     311     312\n",
              "10             K          B737     250     251  ...     256     256     251     252\n",
              "11             L          A320     245     246  ...     251     251     246     247\n",
              "12             M          A330     300     301  ...     306     306     301     302\n",
              "13             N          B737     245     246  ...     251     251     246     247\n",
              "14             O          A320     250     251  ...     256     256     251     252\n",
              "15             P          A320     245     246  ...     251     251     246     247\n",
              "16             Q          Q400     195     196  ...     201     201     196     197\n",
              "17             R         ATR72     200     201  ...     206     206     201     202\n",
              "18             S          A330     310     311  ...     316     316     311     312\n",
              "19             T          A330     300     301  ...     306     306     301     302\n",
              "20             U          B747     310     311  ...     316     316     311     312\n",
              "21             V          Q400     200     201  ...     206     206     201     202\n",
              "22             W         ATR72     200     201  ...     206     206     201     202\n",
              "23             X          A320     250     251  ...     256     256     251     252\n",
              "24             Y          A330     300     301  ...     306     306     301     302\n",
              "25             Z          B737     245     246  ...     251     251     246     247\n",
              "\n",
              "[26 rows x 14 columns]"
            ]
          },
          "metadata": {
            "tags": []
          },
          "execution_count": 37
        }
      ]
    },
    {
      "cell_type": "code",
      "metadata": {
        "colab": {
          "base_uri": "https://localhost:8080/"
        },
        "id": "t6c8hygySu0_",
        "outputId": "a6a3dd52-be70-4de3-f6ab-245c43173e13"
      },
      "source": [
        "# operations_df, getting total hours of a given ac type\n",
        "total_hours_dict={}\n",
        "for i in range(len(operations_df)):\n",
        "  my_list=list(operations_df.iloc[i])\n",
        "  if my_list[1] in total_hours_dict:\n",
        "    total_hours_dict[my_list[1]]+= sum(my_list[2:])\n",
        "  else: \n",
        "    total_hours_dict[my_list[1]]=sum(my_list[2:])\n",
        "total_hours_dict"
      ],
      "execution_count": 38,
      "outputs": [
        {
          "output_type": "execute_result",
          "data": {
            "text/plain": [
              "{'A320': 14875,\n",
              " 'A330': 21834,\n",
              " 'ATR72': 9536,\n",
              " 'B737': 11816,\n",
              " 'B747': 11037,\n",
              " 'Q400': 9476}"
            ]
          },
          "metadata": {
            "tags": []
          },
          "execution_count": 38
        }
      ]
    },
    {
      "cell_type": "markdown",
      "metadata": {
        "id": "k_Sf2Xb4zCFB"
      },
      "source": [
        "## Estimating total cost by aircraft type for the year"
      ]
    },
    {
      "cell_type": "code",
      "metadata": {
        "colab": {
          "base_uri": "https://localhost:8080/"
        },
        "id": "xU1aI7llUfzF",
        "outputId": "2a7d7039-827a-49f2-d36f-a04a7e348874"
      },
      "source": [
        "# Estimating total cost:\n",
        "totalcost_dict={}\n",
        "for i in total_hours_dict:\n",
        "  totalcost_dict[i]=ac_type_dict[i][-1]*total_hours_dict[i]\n",
        "totalcost_dict"
      ],
      "execution_count": 39,
      "outputs": [
        {
          "output_type": "execute_result",
          "data": {
            "text/plain": [
              "{'A320': 74375000,\n",
              " 'A330': 163755000,\n",
              " 'ATR72': 26224000,\n",
              " 'B737': 60261600,\n",
              " 'B747': 132444000,\n",
              " 'Q400': 33166000}"
            ]
          },
          "metadata": {
            "tags": []
          },
          "execution_count": 39
        }
      ]
    },
    {
      "cell_type": "markdown",
      "metadata": {
        "id": "YASJSpx8zb9y"
      },
      "source": [
        "## Aircraft type which has the lowest cost per seat per km flown"
      ]
    },
    {
      "cell_type": "code",
      "metadata": {
        "colab": {
          "base_uri": "https://localhost:8080/"
        },
        "id": "karxdDevV_GV",
        "outputId": "074512db-c536-43b5-e004-7ba82ffe8aa3"
      },
      "source": [
        "# lowest_Cost\n",
        "lowest_Cost={}\n",
        "for i in totalcost_dict:\n",
        "  lowest_Cost[i]=totalcost_dict[i]/(ac_type_dict[i][-2]*ac_type_dict[i][1]*total_hours_dict[i])\n",
        "lowest_Cost_ac=min(lowest_Cost, key=lowest_Cost.get)\n",
        "print(str(lowest_Cost_ac)+': {}'.format(lowest_Cost[lowest_Cost_ac]))"
      ],
      "execution_count": 40,
      "outputs": [
        {
          "output_type": "stream",
          "text": [
            "A330: 0.03333333333333333\n"
          ],
          "name": "stdout"
        }
      ]
    },
    {
      "cell_type": "markdown",
      "metadata": {
        "id": "0JWps0GjoGvS"
      },
      "source": [
        "# Part B"
      ]
    },
    {
      "cell_type": "code",
      "metadata": {
        "id": "97569s8clB0Q",
        "colab": {
          "base_uri": "https://localhost:8080/"
        },
        "outputId": "6414411d-4e7f-4246-bae0-f1a488b82c5d"
      },
      "source": [
        "# we have city pairs their data\n",
        "city_pairs_dict={}\n",
        "for i in range(len(city_pairs_df)):\n",
        "  pair=city_pairs_df.iloc[i][0]+city_pairs_df.iloc[i][1]\n",
        "  city_pairs_dict[pair]=[city_pairs_df.iloc[i][2],city_pairs_df.iloc[i][3]]\n",
        "city_pairs_dict\n"
      ],
      "execution_count": 41,
      "outputs": [
        {
          "output_type": "execute_result",
          "data": {
            "text/plain": [
              "{'AA BB': [420, 3000],\n",
              " 'AA DD': [300, 1000],\n",
              " 'BB CC': [450, 6500],\n",
              " 'CC AA': [300, 400]}"
            ]
          },
          "metadata": {
            "tags": []
          },
          "execution_count": 41
        }
      ]
    },
    {
      "cell_type": "markdown",
      "metadata": {
        "id": "bVdi5kPFSuqm"
      },
      "source": [
        "- city_pairs_dict represents the city pairs with Pass. Demand and Distance.\n",
        "- We need to get the aircrafts which have range higher than or equal to the distance between the city pair.\n",
        "- from ac_type_dict , we use no. of seats in order to estimate no. of trips required for a given city pair and air craft type"
      ]
    },
    {
      "cell_type": "markdown",
      "metadata": {
        "id": "Sixdnwa3rGqU"
      },
      "source": [
        "- For every city pair we take ac_type get the lowest cost one by using no.of trips and total cost"
      ]
    },
    {
      "cell_type": "code",
      "metadata": {
        "id": "VbPHMSwzqrTd"
      },
      "source": [
        "import sys\n",
        "import math\n",
        "\n",
        "fleet=[]\n",
        "city_pairs_ac_dict={}\n",
        "for city_pair in city_pairs_dict:\n",
        "\n",
        "  # getting aircrafts whose range is greater than the distance of given city pair\n",
        "  range_ac=[ac_type for ac_type in ac_type_dict if ac_type_dict[ac_type][0]>=city_pairs_dict[city_pair][1]]\n",
        "  lowest_cost_for_city_pair = sys.maxsize\n",
        "  lowest_cost_type_city_pair = None\n",
        "  \n",
        "  # iterating through eligible ac_types in order to get most suited one\n",
        "  for ac_type in range_ac:\n",
        "\n",
        "# dividing city pairs demand by seating capacity of ac type inorder to find no. of trips required for a given ac type\n",
        "    no_trips=math.ceil(1.0*city_pairs_dict[city_pair][0]/ac_type_dict[ac_type][2])\n",
        "\n",
        "# getting cost per trip, we take the distance between the cities and divide it by the average speed to get the time taken for the trip (in hours)\n",
        "# then multiply by cost per hour\n",
        "    cost_for_trip = (1.0 * city_pairs_dict[city_pair][1]/ac_type_dict[ac_type][1])*ac_type_dict[ac_type][3]\n",
        "    totalcost=cost_for_trip*no_trips\n",
        "\n",
        "    # finding lowest cost ac for a given city pair\n",
        "    if totalcost < lowest_cost_for_city_pair:\n",
        "      lowest_cost_for_city_pair = totalcost\n",
        "      lowest_cost_type_city_pair = ac_type\n",
        "\n",
        "  # appending the lowest cost ac for given pair to the fleet \n",
        "  if lowest_cost_type_city_pair not in fleet:\n",
        "    fleet.append(lowest_cost_type_city_pair)\n",
        "\n",
        "  # noting total cost & suited ac_type for a given city pair\n",
        "  city_pairs_ac_dict[city_pair]=[lowest_cost_type_city_pair, lowest_cost_for_city_pair]\n",
        "\n"
      ],
      "execution_count": 42,
      "outputs": []
    },
    {
      "cell_type": "code",
      "metadata": {
        "colab": {
          "base_uri": "https://localhost:8080/"
        },
        "id": "eCEEwql-p5u0",
        "outputId": "ab8254a2-9ca2-41c9-9f17-2e0accdb8628"
      },
      "source": [
        "# part B solution is in the city_pairs_ac_dict with type as first value and total as second value\n",
        "city_pairs_ac_dict"
      ],
      "execution_count": 43,
      "outputs": [
        {
          "output_type": "execute_result",
          "data": {
            "text/plain": [
              "{'AA BB': ['A330', 50000.0],\n",
              " 'AA DD': ['A320', 12500.0],\n",
              " 'BB CC': ['A330', 108333.33333333333],\n",
              " 'CC AA': ['A320', 5000.0]}"
            ]
          },
          "metadata": {
            "tags": []
          },
          "execution_count": 43
        }
      ]
    },
    {
      "cell_type": "code",
      "metadata": {
        "colab": {
          "base_uri": "https://localhost:8080/"
        },
        "id": "CDV6ETIkxVfL",
        "outputId": "3e635597-41a6-47c5-e0c7-b0f997c40cf9"
      },
      "source": [
        "# The best suited aircrafts are:\n",
        "fleet"
      ],
      "execution_count": 44,
      "outputs": [
        {
          "output_type": "execute_result",
          "data": {
            "text/plain": [
              "['A330', 'A320']"
            ]
          },
          "metadata": {
            "tags": []
          },
          "execution_count": 44
        }
      ]
    }
  ]
}